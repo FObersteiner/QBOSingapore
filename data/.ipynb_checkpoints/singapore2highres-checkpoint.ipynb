{
 "cells": [
  {
   "cell_type": "code",
   "execution_count": 1,
   "id": "bd315b30-771e-4997-8675-a13634268a94",
   "metadata": {},
   "outputs": [
    {
     "name": "stdout",
     "output_type": "stream",
     "text": [
      "Data has been successfully saved to 'singapore.hi.dat'.\n"
     ]
    }
   ],
   "source": [
    "import numpy as np\n",
    "\n",
    "# Define the input and output file names\n",
    "input_file = \"singapore.dat\"\n",
    "output_file = \"singapore.hi.dat\"\n",
    "\n",
    "# Initialize variables to store data\n",
    "year = None\n",
    "pressure_levels = []\n",
    "velocity_data = []\n",
    "newyear = 0\n",
    "vel = []\n",
    "\n",
    "# Open the input and output files\n",
    "with open(input_file, 'r') as infile, open(output_file, 'w') as outfile:\n",
    "    outfile.write(\"# QBO.highres.dat\\n\")\n",
    "    outfile.write(\"#\\n\")\n",
    "    outfile.write(\"# This file contains monthly mean zonal wind data at Singapore (48698), 1N/104E.\\n\")\n",
    "    outfile.write(\"#\\n\")\n",
    "    outfile.write(\"# Units: m/s\\n\")\n",
    "    outfile.write(\"#\\n\")\n",
    "    outfile.write(\"# year month      10      12      15      20      25      30      35      40      45      50      60      70      80      90\\n\")\n",
    "\n",
    "    for line in infile:\n",
    "        # Remove leading and trailing whitespace\n",
    "        line = line.strip()\n",
    "\n",
    "        if not line:\n",
    "            # Skip empty lines\n",
    "            continue\n",
    "\n",
    "        if line.isdigit():\n",
    "            year = int(line)\n",
    "\n",
    "        elif year is not None and not line.startswith('hPa'):\n",
    "            # Split the line into columns\n",
    "            columns = line.split()\n",
    "\n",
    "            # The first column contains the pressure level\n",
    "            pressure_level = int(columns[0])\n",
    "\n",
    "            # Extract velocity data and transpose it\n",
    "            velocity_values = [float(column) / 10.0 for column in columns[1:]]\n",
    "\n",
    "            # Store the data in the respective lists\n",
    "            pressure_levels.append(pressure_level)\n",
    "            if newyear != year:\n",
    "                if velocity_data:  # Check if there's existing data\n",
    "                    vel.append(np.array(velocity_data).T)\n",
    "                velocity_data = []\n",
    "                velocity_data.append([str(year)] * 12)  # Year repeated 12 times as strings\n",
    "                velocity_data.append(['01', '02', '03', '04', '05', '06', '07', '08', '09', '10', '11', '12'])\n",
    "            velocity_data.append(velocity_values)\n",
    "\n",
    "            newyear = year\n",
    "\n",
    "    # Append the last year's data after the loop\n",
    "    if velocity_data:  # Check if there's existing data\n",
    "        vel.append(np.array(velocity_data).T)\n",
    "\n",
    "    # Write the 'vel' data as it is to the output file with proper formatting\n",
    "    for data in vel:\n",
    "        for i, row in enumerate(data):\n",
    "            year_val = int(row[0])\n",
    "            month_val = int(row[1])\n",
    "            if i % 12 == 0:  # Add a comment symbol every 12 months\n",
    "                outfile.write(\"#\\n\")\n",
    "            outfile.write(f\"{year_val:4d}    {month_val:02d}      \")\n",
    "\n",
    "            for val in row[2:16]:\n",
    "                outfile.write(f\"{float(val):<8.1f}\")  # Format the values as floating-point numbers and left-align\n",
    "            outfile.write(\"\\n\")\n",
    "\n",
    "print(f\"Data has been successfully saved to '{output_file}'.\")\n"
   ]
  },
  {
   "cell_type": "code",
   "execution_count": null,
   "id": "5c9bcfa4-ecf5-4625-971f-f585a5746bf5",
   "metadata": {},
   "outputs": [],
   "source": []
  }
 ],
 "metadata": {
  "kernelspec": {
   "display_name": "Python 3 (ipykernel)",
   "language": "python",
   "name": "python3"
  },
  "language_info": {
   "codemirror_mode": {
    "name": "ipython",
    "version": 3
   },
   "file_extension": ".py",
   "mimetype": "text/x-python",
   "name": "python",
   "nbconvert_exporter": "python",
   "pygments_lexer": "ipython3",
   "version": "3.11.6"
  }
 },
 "nbformat": 4,
 "nbformat_minor": 5
}
